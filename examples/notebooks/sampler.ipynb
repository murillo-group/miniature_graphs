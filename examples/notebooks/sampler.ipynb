{
 "cells": [
  {
   "cell_type": "code",
   "execution_count": 1,
   "metadata": {},
   "outputs": [],
   "source": [
    "import networkx as nx\n",
    "import numpy as np\n",
    "import scipy \n",
    "import pandas as pd\n",
    "import matplotlib.pyplot as plt\n",
    "\n",
    "\n",
    "# Import our package\n",
    "import sys\n",
    "sys.path.append('../../')\n",
    "import miniaturize as mini"
   ]
  },
  {
   "cell_type": "code",
   "execution_count": 2,
   "metadata": {},
   "outputs": [],
   "source": [
    "def get_metrics(G):\n",
    "    C = nx.average_clustering(G)\n",
    "    r = nx.assortativity.degree_assortativity_coefficient(G)\n",
    "\n",
    "    return [C,r]\n",
    "\n",
    "def get_name(generator):\n",
    "    return generator.__name__\n",
    "\n",
    "def sample_generator(generator,params,n=50):\n",
    "    \"\"\"\n",
    "    dict:           Graph generator to be sampled\n",
    "    params:         Parameters for the generator\n",
    "    n:              Number of samples to be drawn from each parameter combination\n",
    "    \"\"\"\n",
    "\n",
    "    metrics = np.zeros((n,2))\n",
    "    for i in range(0,n):\n",
    "        metrics[i,:] = get_metrics(generator(*params))\n",
    "\n",
    "    data = {'name':[get_name(generator)] * n,\n",
    "            'm1':metrics[:,0],\n",
    "            'm2':metrics[:,1]}\n",
    "\n",
    "    return pd.DataFrame(data)\n",
    "\n",
    "def grid_sample(generator,params_grid,num_samples=10):\n",
    "    \"\"\"\n",
    "    Samples the specified generator in a grid-like manner\n",
    "    generator:      Handle to the generator to sample from\n",
    "    params:         parameters to sample from the generator\n",
    "    \"\"\"\n",
    "\n",
    "    # Initialize empty dataframe\n",
    "    df = pd.DataFrame()\n",
    "\n",
    "    # Get number of parameters\n",
    "    num_parameters = len(params_grid)\n",
    "\n",
    "    # Get dimensions of each parameter array\n",
    "    shape = [len(param) for param in params_grid]\n",
    "\n",
    "    # Index array\n",
    "    idx = np.argwhere(np.ones(shape,dtype=bool))\n",
    "\n",
    "    # Sample array\n",
    "    for idx_local in idx:\n",
    "        # Select sampling parameters\n",
    "        params = [params_grid[j][flag] for j,flag in enumerate(idx_local)]\n",
    "\n",
    "        # Sample generator\n",
    "        sample = sample_generator(generator,params,num_samples)\n",
    "\n",
    "        # Append parameters\n",
    "        sample['graph_size'] = params[0]\n",
    "        sample['parameters'] = [params[1:]] * (num_samples)\n",
    "\n",
    "        # Append to existing dataframe\n",
    "        df = pd.concat([df,sample],)\n",
    "\n",
    "    return df.reset_index()"
   ]
  },
  {
   "cell_type": "code",
   "execution_count": 6,
   "metadata": {},
   "outputs": [
    {
     "data": {
      "text/html": [
       "<div>\n",
       "<style scoped>\n",
       "    .dataframe tbody tr th:only-of-type {\n",
       "        vertical-align: middle;\n",
       "    }\n",
       "\n",
       "    .dataframe tbody tr th {\n",
       "        vertical-align: top;\n",
       "    }\n",
       "\n",
       "    .dataframe thead th {\n",
       "        text-align: right;\n",
       "    }\n",
       "</style>\n",
       "<table border=\"1\" class=\"dataframe\">\n",
       "  <thead>\n",
       "    <tr style=\"text-align: right;\">\n",
       "      <th></th>\n",
       "      <th>index</th>\n",
       "      <th>name</th>\n",
       "      <th>m1</th>\n",
       "      <th>m2</th>\n",
       "      <th>graph_size</th>\n",
       "      <th>parameters</th>\n",
       "    </tr>\n",
       "  </thead>\n",
       "  <tbody>\n",
       "    <tr>\n",
       "      <th>0</th>\n",
       "      <td>0</td>\n",
       "      <td>gnp_random_graph</td>\n",
       "      <td>0.500968</td>\n",
       "      <td>-0.031254</td>\n",
       "      <td>100</td>\n",
       "      <td>[0.5]</td>\n",
       "    </tr>\n",
       "    <tr>\n",
       "      <th>1</th>\n",
       "      <td>1</td>\n",
       "      <td>gnp_random_graph</td>\n",
       "      <td>0.498616</td>\n",
       "      <td>-0.051343</td>\n",
       "      <td>100</td>\n",
       "      <td>[0.5]</td>\n",
       "    </tr>\n",
       "  </tbody>\n",
       "</table>\n",
       "</div>"
      ],
      "text/plain": [
       "   index              name        m1        m2  graph_size parameters\n",
       "0      0  gnp_random_graph  0.500968 -0.031254         100      [0.5]\n",
       "1      1  gnp_random_graph  0.498616 -0.051343         100      [0.5]"
      ]
     },
     "execution_count": 6,
     "metadata": {},
     "output_type": "execute_result"
    }
   ],
   "source": [
    "params_er = ((100,),(0.5,))\n",
    "\n",
    "df_er = grid_sample(nx.erdos_renyi_graph,params_er,2)\n",
    "df_er"
   ]
  },
  {
   "cell_type": "code",
   "execution_count": null,
   "metadata": {},
   "outputs": [],
   "source": [
    "df_ba = grid_sample(nx.barabasi_albert_graph,((1000,),(100,200,300,400,500,600)),1)\n",
    "df_ba"
   ]
  },
  {
   "cell_type": "code",
   "execution_count": null,
   "metadata": {},
   "outputs": [],
   "source": [
    "fig,ax = plt.subplots()\n",
    "C,r = get_metrics(nx.davis_southern_women_graph())\n",
    "ax.scatter(df_er['m1'],df_er['m2'],alpha=np.log10(df_er['graph_size'])/3)\n",
    "ax.scatter(df_ba['m1'],df_ba['m2'])\n",
    "ax.scatter(C,r,marker='x')\n",
    "\n",
    "ax.set_xlabel('Assortativity Coefficient')\n",
    "ax.set_ylabel('Average Clustering Coefficient')\n",
    "\n",
    "ax.legend([\"Erdos-Renyi\",\"Barbasi-Albert\",\"Souther Women Social Graph\"])"
   ]
  },
  {
   "cell_type": "code",
   "execution_count": 2,
   "metadata": {},
   "outputs": [
    {
     "data": {
      "text/plain": [
       "<miniaturize.Metropolis.Metropolis at 0x13fbae4e0>"
      ]
     },
     "execution_count": 2,
     "metadata": {},
     "output_type": "execute_result"
    }
   ],
   "source": [
    "mini.Metropolis(nx.complete_graph,1)"
   ]
  },
  {
   "cell_type": "code",
   "execution_count": 2,
   "metadata": {},
   "outputs": [
    {
     "data": {
      "text/plain": [
       "<function miniaturize.utils.sampling.get_metrics(G)>"
      ]
     },
     "execution_count": 2,
     "metadata": {},
     "output_type": "execute_result"
    }
   ],
   "source": [
    "mini.utils.sampling.get_metrics"
   ]
  }
 ],
 "metadata": {
  "kernelspec": {
   "display_name": "mini",
   "language": "python",
   "name": "python3"
  },
  "language_info": {
   "codemirror_mode": {
    "name": "ipython",
    "version": 3
   },
   "file_extension": ".py",
   "mimetype": "text/x-python",
   "name": "python",
   "nbconvert_exporter": "python",
   "pygments_lexer": "ipython3",
   "version": "3.12.2"
  }
 },
 "nbformat": 4,
 "nbformat_minor": 2
}
