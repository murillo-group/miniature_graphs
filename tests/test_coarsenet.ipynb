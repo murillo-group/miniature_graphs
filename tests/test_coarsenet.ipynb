{
 "cells": [
  {
   "cell_type": "code",
   "execution_count": 19,
   "metadata": {},
   "outputs": [],
   "source": [
    "import networkx as nx\n",
    "from minigraphs import Metropolis\n",
    "from importlib import reload\n",
    "\n",
    "reload(Metropolis)\n",
    "\n",
    "def connected(G):\n",
    "    return [nx.convert_node_labels_to_integers(G.subgraph(c).copy()) for c in nx.connected_components(G)]\n",
    "    "
   ]
  },
  {
   "cell_type": "code",
   "execution_count": 21,
   "metadata": {},
   "outputs": [
    {
     "name": "stdout",
     "output_type": "stream",
     "text": [
      "9.318037167277806\n"
     ]
    }
   ],
   "source": [
    "# Instantiate graph\n",
    "G = nx.read_edgelist(\"soc-loc-brightkite.edges\",nodetype=int)\n",
    "G = nx.convert_node_labels_to_integers(G)\n",
    "G.nodes\n",
    "\n",
    "lambda_, _, _= Metropolis.CoarseNET.eigs(G)\n",
    "print(lambda_)"
   ]
  },
  {
   "cell_type": "code",
   "execution_count": 25,
   "metadata": {},
   "outputs": [],
   "source": [
    "# Instantiate coarsener\n",
    "coarsener = Metropolis.CoarseNET(0.7,G)\n",
    "\n",
    "# Coarsen Graph\n",
    "coarsener.coarsen()"
   ]
  },
  {
   "cell_type": "code",
   "execution_count": 26,
   "metadata": {},
   "outputs": [
    {
     "name": "stdout",
     "output_type": "stream",
     "text": [
      "9.31803716727781 9.319689789642258\n"
     ]
    }
   ],
   "source": [
    "lambda_, _, _  = Metropolis.CoarseNET.eigs(coarsener.G)\n",
    "lambda_coarse_, _, _ = Metropolis.CoarseNET.eigs(coarsener.G_coarse_)\n",
    "print(lambda_,lambda_coarse_)"
   ]
  },
  {
   "cell_type": "code",
   "execution_count": 30,
   "metadata": {},
   "outputs": [
    {
     "name": "stdout",
     "output_type": "stream",
     "text": [
      "58228 21239\n"
     ]
    }
   ],
   "source": [
    "print(coarsener.G.number_of_nodes(),len(coarsener.nodes_removed_))"
   ]
  }
 ],
 "metadata": {
  "kernelspec": {
   "display_name": "minigraphs",
   "language": "python",
   "name": "python3"
  },
  "language_info": {
   "codemirror_mode": {
    "name": "ipython",
    "version": 3
   },
   "file_extension": ".py",
   "mimetype": "text/x-python",
   "name": "python",
   "nbconvert_exporter": "python",
   "pygments_lexer": "ipython3",
   "version": "3.10.14"
  }
 },
 "nbformat": 4,
 "nbformat_minor": 2
}
