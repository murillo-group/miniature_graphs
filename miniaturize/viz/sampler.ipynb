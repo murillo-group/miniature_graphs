{
 "cells": [
  {
   "cell_type": "code",
   "execution_count": null,
   "metadata": {},
   "outputs": [],
   "source": [
    "import networkx as nx\n",
    "import numpy as np\n",
    "import scipy \n",
    "import pandas as pd\n",
    "import matplotlib.pyplot as plt"
   ]
  },
  {
   "cell_type": "code",
   "execution_count": null,
   "metadata": {},
   "outputs": [],
   "source": [
    "def get_metrics(G):\n",
    "    C = nx.average_clustering(G)\n",
    "    r = nx.assortativity.degree_assortativity_coefficient(G)\n",
    "\n",
    "    return [C,r]\n",
    "\n",
    "def get_name(generator):\n",
    "    return generator.__name__\n",
    "\n",
    "def sample_generator(generator,params,n=50):\n",
    "    \"\"\"\n",
    "    dict:           Graph generator to be sampled\n",
    "    params:         Parameters for the generator\n",
    "    n:              Number of samples to be drawn from each parameter combination\n",
    "    \"\"\"\n",
    "\n",
    "    metrics = np.zeros((n,2))\n",
    "    for i in range(0,n):\n",
    "        metrics[i,:] = get_metrics(generator(*params))\n",
    "\n",
    "    data = {'name':[get_name(generator)] * n,\n",
    "            'm1':metrics[:,0],\n",
    "            'm2':metrics[:,1]}\n",
    "\n",
    "    return pd.DataFrame(data)\n",
    "\n",
    "def grid_sample(generator,params_grid,num_samples=10):\n",
    "    \"\"\"\n",
    "    Samples the specified generator in a grid-like manner\n",
    "    generator:      Handle to the generator to sample from\n",
    "    params:         parameters to sample from the generator\n",
    "    \"\"\"\n",
    "\n",
    "    # Initialize empty dataframe\n",
    "    df = pd.DataFrame()\n",
    "\n",
    "    # Get number of parameters\n",
    "    num_parameters = len(params_grid)\n",
    "\n",
    "    # Get dimensions of each parameter array\n",
    "    shape = [len(param) for param in params_grid]\n",
    "\n",
    "    # Index array\n",
    "    idx = np.argwhere(np.ones(shape,dtype=bool))\n",
    "\n",
    "    # Sample array\n",
    "    for idx_local in idx:\n",
    "        # Select sampling parameters\n",
    "        params = [params_grid[j][flag] for j,flag in enumerate(idx_local)]\n",
    "\n",
    "        # Sample generator\n",
    "        sample = sample_generator(generator,params,num_samples)\n",
    "\n",
    "        # Append parameters\n",
    "        sample['graph_size'] = params[0]\n",
    "        sample['parameters'] = [params[1:]] * (num_samples)\n",
    "\n",
    "        # Append to existing dataframe\n",
    "        df = pd.concat([df,sample],)\n",
    "\n",
    "    return df.reset_index()"
   ]
  },
  {
   "cell_type": "code",
   "execution_count": null,
   "metadata": {},
   "outputs": [],
   "source": [
    "graph_size = np.power(10,[2,3])\n",
    "params_er = (graph_size,np.arange(0.1,0.9,0.1))\n",
    "\n",
    "df_er = grid_sample(nx.erdos_renyi_graph,params_er,2)\n",
    "df_er"
   ]
  },
  {
   "cell_type": "code",
   "execution_count": null,
   "metadata": {},
   "outputs": [],
   "source": [
    "df_ba = grid_sample(nx.barabasi_albert_graph,((1000,),(100,200,300,400,500,600)),1)\n",
    "df_ba"
   ]
  },
  {
   "cell_type": "code",
   "execution_count": null,
   "metadata": {},
   "outputs": [],
   "source": [
    "fig,ax = plt.subplots()\n",
    "C,r = get_metrics(nx.davis_southern_women_graph())\n",
    "ax.scatter(df_er['m1'],df_er['m2'],alpha=np.log10(df_er['graph_size'])/3)\n",
    "ax.scatter(df_ba['m1'],df_ba['m2'])\n",
    "ax.scatter(C,r,marker='x')\n",
    "\n",
    "ax.set_xlabel('Assortativity Coefficient')\n",
    "ax.set_ylabel('Average Clustering Coefficient')\n",
    "\n",
    "ax.legend([\"Erdos-Renyi\",\"Barbasi-Albert\",\"Souther Women Social Graph\"])"
   ]
  }
 ],
 "metadata": {
  "language_info": {
   "name": "python"
  }
 },
 "nbformat": 4,
 "nbformat_minor": 2
}
